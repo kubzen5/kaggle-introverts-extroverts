{
 "cells": [
  {
   "cell_type": "code",
   "id": "initial_id",
   "metadata": {
    "collapsed": true,
    "ExecuteTime": {
     "end_time": "2025-07-09T10:21:26.621018Z",
     "start_time": "2025-07-09T10:21:25.689683Z"
    }
   },
   "source": [
    "import pandas as pd\n",
    "import numpy as np\n",
    "from datetime import datetime\n",
    "\n",
    "CURRENT_DATETIME = datetime.now()\n",
    "CURRENT_DATETIME_STR = CURRENT_DATETIME.strftime(\"%Y-%m-%d/ %H:%M:%S\")\n",
    "\n",
    "# PATHS Declaration\n",
    "DATA_RAW_DIR = './data_raw/'\n",
    "DATA_DIR = './data/'\n",
    "DATA_RESULTS_DIR = './data_results/'\n",
    "\n"
   ],
   "outputs": [],
   "execution_count": 1
  },
  {
   "metadata": {},
   "cell_type": "code",
   "outputs": [],
   "execution_count": null,
   "source": "",
   "id": "e66d65ecfa7497fa"
  }
 ],
 "metadata": {
  "kernelspec": {
   "display_name": "Python 3",
   "language": "python",
   "name": "python3"
  },
  "language_info": {
   "codemirror_mode": {
    "name": "ipython",
    "version": 2
   },
   "file_extension": ".py",
   "mimetype": "text/x-python",
   "name": "python",
   "nbconvert_exporter": "python",
   "pygments_lexer": "ipython2",
   "version": "2.7.6"
  }
 },
 "nbformat": 4,
 "nbformat_minor": 5
}
